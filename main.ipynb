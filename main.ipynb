{
 "cells": [
  {
   "cell_type": "code",
   "execution_count": null,
   "id": "initial_id",
   "metadata": {
    "collapsed": true,
    "is_executing": true
   },
   "outputs": [],
   "source": [
    "import os\n",
    "import pandas as pd\n",
    "from google.cloud import bigquery\n",
    "import db_dtypes\n",
    "\n",
    "#scenic-outcome-453219-h5-4c318c9a7175\n",
    "os.environ[\"GOOGLE_APPLICATION_CREDENTIALS\"]=\"scenic-outcome-453219-h5-4c318c9a7175.json\"\n",
    "client = bigquery.Client() \n",
    "\n",
    "pd.set_option('display.max_columns', None)  # wyłącz limit na kolumny\n",
    "pd.set_option('display.max_rows', None)  # wyłącz limit na wiersze\n",
    "pd.set_option('display.width', None)  # wyłącz limit na szerokość\n",
    "pd.set_option('display.max_colwidth', None)  # wyłącz limit na szerokość kolumn\n",
    "# client = bigquery.Client()"
   ]
  },
  {
   "cell_type": "code",
   "execution_count": null,
   "outputs": [],
   "source": [
    " query = ('select * from bigquery-public-data.covid19_open_data.covid19_open_data limit 20')\n",
    " query_job = client.query(query)    \n",
    " query_result = query_job.result()  \n",
    " df = query_result.to_dataframe()"
   ],
   "metadata": {
    "collapsed": false
   },
   "id": "763c35b90f6b9111"
  },
  {
   "cell_type": "code",
   "execution_count": null,
   "outputs": [],
   "source": [
    "df"
   ],
   "metadata": {
    "collapsed": false
   },
   "id": "738e89cc18ce7432"
  },
  {
   "cell_type": "code",
   "execution_count": null,
   "outputs": [],
   "source": [
    "#Lista wszystkich kolumn\n",
    "query = \"\"\"\n",
    "    SELECT column_name\n",
    "    FROM `bigquery-public-data.covid19_open_data.INFORMATION_SCHEMA.COLUMNS`\n",
    "    WHERE table_name = 'covid19_open_data'\n",
    "\"\"\"\n",
    "query_job = client.query(query)\n",
    "columns_df = query_job.result().to_dataframe()\n",
    "\n",
    "columns_df"
   ],
   "metadata": {
    "collapsed": false
   },
   "id": "626cffd72c055a24"
  }
 ],
 "metadata": {
  "kernelspec": {
   "display_name": "Python 3",
   "language": "python",
   "name": "python3"
  },
  "language_info": {
   "codemirror_mode": {
    "name": "ipython",
    "version": 2
   },
   "file_extension": ".py",
   "mimetype": "text/x-python",
   "name": "python",
   "nbconvert_exporter": "python",
   "pygments_lexer": "ipython2",
   "version": "2.7.6"
  }
 },
 "nbformat": 4,
 "nbformat_minor": 5
}
